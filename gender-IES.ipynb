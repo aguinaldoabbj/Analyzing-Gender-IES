{
 "cells": [
  {
   "cell_type": "markdown",
   "metadata": {},
   "source": [
    "# Universidade Federal do Rio Grande do Norte\n",
    "## Programa de Pós-graduação em Engenharia Elétrica e de Computação\n",
    "### Course: Tópicos Especiais C - Data Science Foundation\n",
    "### Professor: Ivanovitch Silva\n",
    "### Students: \n",
    "\n",
    "* Aguinaldo Bezerra Batista Júnior\n",
    "* Pedro Klisley Ferreira da Silva\n",
    "* Ycaro Ravel Dantas\n",
    "\n",
    "#### Activity: Project 4\n",
    "#### Subject: IES employees gender analysis\n",
    "#### Objectives: Analyze gender in IES employees from webscrapped data of Portal da Transparência \n",
    "#### Base dataset: number_of_employees.csv"
   ]
  },
  {
   "cell_type": "markdown",
   "metadata": {},
   "source": [
    "### 0 Loading Libraries and base dataset"
   ]
  },
  {
   "cell_type": "code",
   "execution_count": 240,
   "metadata": {
    "collapsed": true
   },
   "outputs": [],
   "source": [
    "# Loading needed libraries\n",
    "import pandas as pd\n",
    "import requests as requests\n",
    "from bs4 import BeautifulSoup\n",
    "from time import sleep\n",
    "from random import randint"
   ]
  },
  {
   "cell_type": "markdown",
   "metadata": {},
   "source": [
    "This activity starts with loading a base dataset obtained in professor's guiding notebook. This dataset was built on webscrapped data from [Portal da Transparência](http://www.portaldatransparencia.gov.br/)."
   ]
  },
  {
   "cell_type": "code",
   "execution_count": 241,
   "metadata": {},
   "outputs": [
    {
     "data": {
      "text/html": [
       "<div>\n",
       "<style>\n",
       "    .dataframe thead tr:only-child th {\n",
       "        text-align: right;\n",
       "    }\n",
       "\n",
       "    .dataframe thead th {\n",
       "        text-align: left;\n",
       "    }\n",
       "\n",
       "    .dataframe tbody tr th {\n",
       "        vertical-align: top;\n",
       "    }\n",
       "</style>\n",
       "<table border=\"1\" class=\"dataframe\">\n",
       "  <thead>\n",
       "    <tr style=\"text-align: right;\">\n",
       "      <th></th>\n",
       "      <th>Unnamed: 0</th>\n",
       "      <th>Code</th>\n",
       "      <th>IES_name</th>\n",
       "      <th>Number_employees</th>\n",
       "    </tr>\n",
       "  </thead>\n",
       "  <tbody>\n",
       "    <tr>\n",
       "      <th>62</th>\n",
       "      <td>62</td>\n",
       "      <td>26201</td>\n",
       "      <td>COLEGIO PEDRO II</td>\n",
       "      <td>2345</td>\n",
       "    </tr>\n",
       "    <tr>\n",
       "      <th>32</th>\n",
       "      <td>32</td>\n",
       "      <td>26201</td>\n",
       "      <td>COLEGIO PEDRO II</td>\n",
       "      <td>2345</td>\n",
       "    </tr>\n",
       "    <tr>\n",
       "      <th>2</th>\n",
       "      <td>2</td>\n",
       "      <td>26201</td>\n",
       "      <td>COLEGIO PEDRO II</td>\n",
       "      <td>2345</td>\n",
       "    </tr>\n",
       "    <tr>\n",
       "      <th>77</th>\n",
       "      <td>77</td>\n",
       "      <td>26201</td>\n",
       "      <td>COLEGIO PEDRO II</td>\n",
       "      <td>2345</td>\n",
       "    </tr>\n",
       "    <tr>\n",
       "      <th>107</th>\n",
       "      <td>107</td>\n",
       "      <td>26201</td>\n",
       "      <td>COLEGIO PEDRO II</td>\n",
       "      <td>2345</td>\n",
       "    </tr>\n",
       "  </tbody>\n",
       "</table>\n",
       "</div>"
      ],
      "text/plain": [
       "     Unnamed: 0   Code           IES_name  Number_employees\n",
       "62           62  26201  COLEGIO PEDRO II               2345\n",
       "32           32  26201  COLEGIO PEDRO II               2345\n",
       "2             2  26201  COLEGIO PEDRO II               2345\n",
       "77           77  26201  COLEGIO PEDRO II               2345\n",
       "107         107  26201  COLEGIO PEDRO II               2345"
      ]
     },
     "execution_count": 241,
     "metadata": {},
     "output_type": "execute_result"
    }
   ],
   "source": [
    "# Loading data retrieved in the professor's guiding notebook\n",
    "ies_df = pd.read_csv('number_of_employees.csv')\n",
    "ies_df.sort_values('Code').head()"
   ]
  },
  {
   "cell_type": "markdown",
   "metadata": {},
   "source": [
    "In this initial webscrapping process, data was obtained from the [Ministry of Education](http://www.portaldatransparencia.gov.br/servidores//OrgaoExercicio-ListaOrgaos.asp?CodOS=15000) page in [Portal da Transparência](http://www.portaldatransparencia.gov.br/). In this activity we have to go deeper in the webscrapping proccess and obtain more data from several pages in that website."
   ]
  },
  {
   "cell_type": "markdown",
   "metadata": {},
   "source": [
    "### 1 Retrieving public employee data\n",
    "The webscrapping process starts with the analysis of [Portal da Transparência](http://www.portaldatransparencia.gov.br/) webpage structure:\n",
    "* Ministry of Education\n",
    "    - IES employees pages"
   ]
  },
  {
   "cell_type": "markdown",
   "metadata": {},
   "source": [
    "Each IES may have several pages listing employees, so we must access all of them to get the desired data"
   ]
  },
  {
   "cell_type": "code",
   "execution_count": 242,
   "metadata": {
    "collapsed": true
   },
   "outputs": [],
   "source": [
    "# Base URL to access the institutions's list of employees\n",
    "base_url = 'http://www.portaltransparencia.gov.br/servidores/OrgaoExercicio-ListaServidores.asp?CodOrg={}'"
   ]
  },
  {
   "cell_type": "code",
   "execution_count": null,
   "metadata": {},
   "outputs": [],
   "source": [
    "ies_names = []\n",
    "# Base page lookup\n",
    "#for ies in ies_df.Code:\n",
    "for ies in ies_df.Code.sort_values().tail(10):\n",
    "       \n",
    "    url = base_url.format(ies).replace(\" \", \"\")\n",
    "    \n",
    "    # Retrieving content for the main page for the institution\n",
    "    response = requests.get(url)\n",
    "    \n",
    "    # Pause the loop\n",
    "    sleep(randint(5,10))\n",
    "    \n",
    "    # Parsing content\n",
    "    ies_html = BeautifulSoup(response.text, 'html.parser')\n",
    "    \n",
    "    # Discovering the number of pages per institution\n",
    "    npages = 1\n",
    "    #npages = ies_html.find('p', class_='paginaAtual').text.rsplit('/',1)[1]\n",
    "    \n",
    "    #ies_name = ies_html.find_all('td',class_='colunaValor')[1].text.strip()    \n",
    "    \n",
    "    # Gathering data from IES employee pages\n",
    "    for page in range(1,int(npages)+1):\n",
    "        \n",
    "        page_url = url+'&Pagina={}'.format(page).replace(\" \", \"\")\n",
    "        \n",
    "        resp = requests.get(page_url)\n",
    "        \n",
    "         # Pause the loop\n",
    "        sleep(randint(5,10))\n",
    "        \n",
    "        # Retrieving content for the page\n",
    "        page_html = BeautifulSoup(response.text, 'html.parser')\n",
    "        \n",
    "        page_table_rows = page_html.find_all('td')\n",
    "            \n",
    "        names = []\n",
    "        # Getting names in each page\n",
    "        for row in page_table_rows:\n",
    "            name = row.find('a')\n",
    "            \n",
    "            if name is not None:\n",
    "                name = name.text.strip()\n",
    "                names.append(name)\n",
    "                ies_names.append(ies_name)\n",
    "                print(name)\n",
    "                print(ies)\n",
    "                \n",
    "    \n",
    "        #break\n",
    "    \n",
    "    \n",
    "    #break\n",
    "    \n"
   ]
  },
  {
   "cell_type": "markdown",
   "metadata": {},
   "source": [
    "Now, with scrapped data in hands, a new dataframe can be built. The absent gender information problem will be addressed in next section"
   ]
  },
  {
   "cell_type": "code",
   "execution_count": 166,
   "metadata": {},
   "outputs": [],
   "source": [
    "# Building a new dataset based on the lists built from webscrapying\n",
    "columns = ['Name','IES','Guessed_Gender']\n",
    "ies_employees_df = pd.DataFrame(columns=columns)\n",
    "ies_employees_df.Name = names\n",
    "ies_employees_df.IES = ies_names\n",
    "ies_employees_df.Guessed_Sex = None"
   ]
  },
  {
   "cell_type": "code",
   "execution_count": 169,
   "metadata": {},
   "outputs": [
    {
     "data": {
      "text/html": [
       "<div>\n",
       "<style>\n",
       "    .dataframe thead tr:only-child th {\n",
       "        text-align: right;\n",
       "    }\n",
       "\n",
       "    .dataframe thead th {\n",
       "        text-align: left;\n",
       "    }\n",
       "\n",
       "    .dataframe tbody tr th {\n",
       "        vertical-align: top;\n",
       "    }\n",
       "</style>\n",
       "<table border=\"1\" class=\"dataframe\">\n",
       "  <thead>\n",
       "    <tr style=\"text-align: right;\">\n",
       "      <th></th>\n",
       "      <th>Name</th>\n",
       "      <th>IES</th>\n",
       "      <th>Guessed_Gender</th>\n",
       "    </tr>\n",
       "  </thead>\n",
       "  <tbody>\n",
       "    <tr>\n",
       "      <th>0</th>\n",
       "      <td>ABELARDO BENTO ARAUJO</td>\n",
       "      <td>CENTRO FED.DE EDUC.TECNOL.MINAS GERAIS</td>\n",
       "      <td>NaN</td>\n",
       "    </tr>\n",
       "    <tr>\n",
       "      <th>1</th>\n",
       "      <td>ABNER BRAGANCA GOUVEA</td>\n",
       "      <td>CENTRO FED.DE EDUC.TECNOL.MINAS GERAIS</td>\n",
       "      <td>NaN</td>\n",
       "    </tr>\n",
       "    <tr>\n",
       "      <th>2</th>\n",
       "      <td>ACCACIO FERREIRA DOS SANTOS NETO</td>\n",
       "      <td>CENTRO FED.DE EDUC.TECNOL.MINAS GERAIS</td>\n",
       "      <td>NaN</td>\n",
       "    </tr>\n",
       "    <tr>\n",
       "      <th>3</th>\n",
       "      <td>ADALBERTO JOSE DE LIMA</td>\n",
       "      <td>CENTRO FED.DE EDUC.TECNOL.MINAS GERAIS</td>\n",
       "      <td>NaN</td>\n",
       "    </tr>\n",
       "    <tr>\n",
       "      <th>4</th>\n",
       "      <td>ADALBERTO PEREIRA DA SILVA</td>\n",
       "      <td>CENTRO FED.DE EDUC.TECNOL.MINAS GERAIS</td>\n",
       "      <td>NaN</td>\n",
       "    </tr>\n",
       "    <tr>\n",
       "      <th>5</th>\n",
       "      <td>ADALBERTO TEIXEIRA DE ANDRADE ROCHA</td>\n",
       "      <td>CENTRO FED.DE EDUC.TECNOL.MINAS GERAIS</td>\n",
       "      <td>NaN</td>\n",
       "    </tr>\n",
       "    <tr>\n",
       "      <th>6</th>\n",
       "      <td>ADALTON MARTINS GOMES</td>\n",
       "      <td>CENTRO FED.DE EDUC.TECNOL.MINAS GERAIS</td>\n",
       "      <td>NaN</td>\n",
       "    </tr>\n",
       "    <tr>\n",
       "      <th>7</th>\n",
       "      <td>ADELSON DE PAULA SILVA</td>\n",
       "      <td>CENTRO FED.DE EDUC.TECNOL.MINAS GERAIS</td>\n",
       "      <td>NaN</td>\n",
       "    </tr>\n",
       "    <tr>\n",
       "      <th>8</th>\n",
       "      <td>ADELSON FERNANDES MOREIRA</td>\n",
       "      <td>CENTRO FED.DE EDUC.TECNOL.MINAS GERAIS</td>\n",
       "      <td>NaN</td>\n",
       "    </tr>\n",
       "    <tr>\n",
       "      <th>9</th>\n",
       "      <td>ADERCI DE FREITAS FILHO</td>\n",
       "      <td>CENTRO FED.DE EDUC.TECNOL.MINAS GERAIS</td>\n",
       "      <td>NaN</td>\n",
       "    </tr>\n",
       "    <tr>\n",
       "      <th>10</th>\n",
       "      <td>ADILSON MENDES RICARDO</td>\n",
       "      <td>CENTRO FED.DE EDUC.TECNOL.MINAS GERAIS</td>\n",
       "      <td>NaN</td>\n",
       "    </tr>\n",
       "    <tr>\n",
       "      <th>11</th>\n",
       "      <td>ADILSON RAMOS DA SILVA</td>\n",
       "      <td>CENTRO FED.DE EDUC.TECNOL.MINAS GERAIS</td>\n",
       "      <td>NaN</td>\n",
       "    </tr>\n",
       "    <tr>\n",
       "      <th>12</th>\n",
       "      <td>ADILSON RANGEL ALVES</td>\n",
       "      <td>CENTRO FED.DE EDUC.TECNOL.MINAS GERAIS</td>\n",
       "      <td>NaN</td>\n",
       "    </tr>\n",
       "    <tr>\n",
       "      <th>13</th>\n",
       "      <td>ADILSON SILVEIRA COELHO</td>\n",
       "      <td>CENTRO FED.DE EDUC.TECNOL.MINAS GERAIS</td>\n",
       "      <td>NaN</td>\n",
       "    </tr>\n",
       "    <tr>\n",
       "      <th>14</th>\n",
       "      <td>ADIMILSON DE ASSIS CRUZ</td>\n",
       "      <td>CENTRO FED.DE EDUC.TECNOL.MINAS GERAIS</td>\n",
       "      <td>NaN</td>\n",
       "    </tr>\n",
       "  </tbody>\n",
       "</table>\n",
       "</div>"
      ],
      "text/plain": [
       "                                   Name  \\\n",
       "0                 ABELARDO BENTO ARAUJO   \n",
       "1                 ABNER BRAGANCA GOUVEA   \n",
       "2      ACCACIO FERREIRA DOS SANTOS NETO   \n",
       "3                ADALBERTO JOSE DE LIMA   \n",
       "4            ADALBERTO PEREIRA DA SILVA   \n",
       "5   ADALBERTO TEIXEIRA DE ANDRADE ROCHA   \n",
       "6                 ADALTON MARTINS GOMES   \n",
       "7                ADELSON DE PAULA SILVA   \n",
       "8             ADELSON FERNANDES MOREIRA   \n",
       "9               ADERCI DE FREITAS FILHO   \n",
       "10               ADILSON MENDES RICARDO   \n",
       "11               ADILSON RAMOS DA SILVA   \n",
       "12                 ADILSON RANGEL ALVES   \n",
       "13              ADILSON SILVEIRA COELHO   \n",
       "14              ADIMILSON DE ASSIS CRUZ   \n",
       "\n",
       "                                       IES Guessed_Gender  \n",
       "0   CENTRO FED.DE EDUC.TECNOL.MINAS GERAIS            NaN  \n",
       "1   CENTRO FED.DE EDUC.TECNOL.MINAS GERAIS            NaN  \n",
       "2   CENTRO FED.DE EDUC.TECNOL.MINAS GERAIS            NaN  \n",
       "3   CENTRO FED.DE EDUC.TECNOL.MINAS GERAIS            NaN  \n",
       "4   CENTRO FED.DE EDUC.TECNOL.MINAS GERAIS            NaN  \n",
       "5   CENTRO FED.DE EDUC.TECNOL.MINAS GERAIS            NaN  \n",
       "6   CENTRO FED.DE EDUC.TECNOL.MINAS GERAIS            NaN  \n",
       "7   CENTRO FED.DE EDUC.TECNOL.MINAS GERAIS            NaN  \n",
       "8   CENTRO FED.DE EDUC.TECNOL.MINAS GERAIS            NaN  \n",
       "9   CENTRO FED.DE EDUC.TECNOL.MINAS GERAIS            NaN  \n",
       "10  CENTRO FED.DE EDUC.TECNOL.MINAS GERAIS            NaN  \n",
       "11  CENTRO FED.DE EDUC.TECNOL.MINAS GERAIS            NaN  \n",
       "12  CENTRO FED.DE EDUC.TECNOL.MINAS GERAIS            NaN  \n",
       "13  CENTRO FED.DE EDUC.TECNOL.MINAS GERAIS            NaN  \n",
       "14  CENTRO FED.DE EDUC.TECNOL.MINAS GERAIS            NaN  "
      ]
     },
     "execution_count": 169,
     "metadata": {},
     "output_type": "execute_result"
    }
   ],
   "source": [
    "ies_employees_df"
   ]
  },
  {
   "cell_type": "markdown",
   "metadata": {},
   "source": [
    "### 2 Guessing Genders\n",
    "Generally, person's first name is closed related to gender. So, it may be possible to guess gender from a person's firts name using some libraries and APIs."
   ]
  },
  {
   "cell_type": "markdown",
   "metadata": {},
   "source": [
    "Our first approach is to use the [GenderBR](http://fmeireles.com/blog/rstats/genderbr-predizer-sexo) package availabe in R (CRAN) to try to predict gender from a person's first name. We have chosen this package because it bases its prediction on IBGE official data. So, clearly it is an accurate and offline approach to guess gender for brazilian names."
   ]
  },
  {
   "cell_type": "code",
   "execution_count": 53,
   "metadata": {},
   "outputs": [
    {
     "name": "stdout",
     "output_type": "stream",
     "text": [
      "The rpy2.ipython extension is already loaded. To reload it, use:\n",
      "  %reload_ext rpy2.ipython\n"
     ]
    }
   ],
   "source": [
    "# We are able to run R commands in ipython using this python library\n",
    "import rpy2.robjects as robjects\n",
    "%load_ext rpy2.ipython"
   ]
  },
  {
   "cell_type": "code",
   "execution_count": 21,
   "metadata": {
    "collapsed": true
   },
   "outputs": [],
   "source": [
    "%%R \n",
    "# Need to load this R library for gender guessing\n",
    "suppressMessages(library(genderBR))"
   ]
  },
  {
   "cell_type": "code",
   "execution_count": 22,
   "metadata": {
    "collapsed": true
   },
   "outputs": [],
   "source": [
    "genders = []\n",
    "# Using robjects to run R procedures\n",
    "for name in ies_employees_df.Name:\n",
    "        name = name.split()[0]\n",
    "        gender = robjects.r.get_gender(name, threshold = 0.95)\n",
    "        gender = gender.r_repr()\n",
    "        gender = gender.strip('\\\"')\n",
    "        if gender.startswith('NA'):\n",
    "            gender = None\n",
    "        genders.append(gender)"
   ]
  },
  {
   "cell_type": "code",
   "execution_count": 23,
   "metadata": {
    "collapsed": true
   },
   "outputs": [],
   "source": [
    "ies_employees_df.Guessed_Gender = genders"
   ]
  },
  {
   "cell_type": "code",
   "execution_count": 24,
   "metadata": {},
   "outputs": [
    {
     "data": {
      "text/html": [
       "<div>\n",
       "<style>\n",
       "    .dataframe thead tr:only-child th {\n",
       "        text-align: right;\n",
       "    }\n",
       "\n",
       "    .dataframe thead th {\n",
       "        text-align: left;\n",
       "    }\n",
       "\n",
       "    .dataframe tbody tr th {\n",
       "        vertical-align: top;\n",
       "    }\n",
       "</style>\n",
       "<table border=\"1\" class=\"dataframe\">\n",
       "  <thead>\n",
       "    <tr style=\"text-align: right;\">\n",
       "      <th></th>\n",
       "      <th>Name</th>\n",
       "      <th>IES</th>\n",
       "      <th>Guessed_Gender</th>\n",
       "    </tr>\n",
       "  </thead>\n",
       "  <tbody>\n",
       "    <tr>\n",
       "      <th>0</th>\n",
       "      <td>ABELARDO BENTO ARAUJO</td>\n",
       "      <td>CENTRO FED.DE EDUC.TECNOL.MINAS GERAIS</td>\n",
       "      <td>Male</td>\n",
       "    </tr>\n",
       "    <tr>\n",
       "      <th>1</th>\n",
       "      <td>ABNER BRAGANCA GOUVEA</td>\n",
       "      <td>CENTRO FED.DE EDUC.TECNOL.MINAS GERAIS</td>\n",
       "      <td>Male</td>\n",
       "    </tr>\n",
       "    <tr>\n",
       "      <th>2</th>\n",
       "      <td>ACCACIO FERREIRA DOS SANTOS NETO</td>\n",
       "      <td>CENTRO FED.DE EDUC.TECNOL.MINAS GERAIS</td>\n",
       "      <td>Male</td>\n",
       "    </tr>\n",
       "    <tr>\n",
       "      <th>3</th>\n",
       "      <td>ADALBERTO JOSE DE LIMA</td>\n",
       "      <td>CENTRO FED.DE EDUC.TECNOL.MINAS GERAIS</td>\n",
       "      <td>Male</td>\n",
       "    </tr>\n",
       "    <tr>\n",
       "      <th>4</th>\n",
       "      <td>ADALBERTO PEREIRA DA SILVA</td>\n",
       "      <td>CENTRO FED.DE EDUC.TECNOL.MINAS GERAIS</td>\n",
       "      <td>Male</td>\n",
       "    </tr>\n",
       "    <tr>\n",
       "      <th>5</th>\n",
       "      <td>ADALBERTO TEIXEIRA DE ANDRADE ROCHA</td>\n",
       "      <td>CENTRO FED.DE EDUC.TECNOL.MINAS GERAIS</td>\n",
       "      <td>Male</td>\n",
       "    </tr>\n",
       "    <tr>\n",
       "      <th>6</th>\n",
       "      <td>ADALTON MARTINS GOMES</td>\n",
       "      <td>CENTRO FED.DE EDUC.TECNOL.MINAS GERAIS</td>\n",
       "      <td>Male</td>\n",
       "    </tr>\n",
       "    <tr>\n",
       "      <th>7</th>\n",
       "      <td>ADELSON DE PAULA SILVA</td>\n",
       "      <td>CENTRO FED.DE EDUC.TECNOL.MINAS GERAIS</td>\n",
       "      <td>Male</td>\n",
       "    </tr>\n",
       "    <tr>\n",
       "      <th>8</th>\n",
       "      <td>ADELSON FERNANDES MOREIRA</td>\n",
       "      <td>CENTRO FED.DE EDUC.TECNOL.MINAS GERAIS</td>\n",
       "      <td>Male</td>\n",
       "    </tr>\n",
       "    <tr>\n",
       "      <th>9</th>\n",
       "      <td>ADERCI DE FREITAS FILHO</td>\n",
       "      <td>CENTRO FED.DE EDUC.TECNOL.MINAS GERAIS</td>\n",
       "      <td>None</td>\n",
       "    </tr>\n",
       "    <tr>\n",
       "      <th>10</th>\n",
       "      <td>ADILSON MENDES RICARDO</td>\n",
       "      <td>CENTRO FED.DE EDUC.TECNOL.MINAS GERAIS</td>\n",
       "      <td>Male</td>\n",
       "    </tr>\n",
       "    <tr>\n",
       "      <th>11</th>\n",
       "      <td>ADILSON RAMOS DA SILVA</td>\n",
       "      <td>CENTRO FED.DE EDUC.TECNOL.MINAS GERAIS</td>\n",
       "      <td>Male</td>\n",
       "    </tr>\n",
       "    <tr>\n",
       "      <th>12</th>\n",
       "      <td>ADILSON RANGEL ALVES</td>\n",
       "      <td>CENTRO FED.DE EDUC.TECNOL.MINAS GERAIS</td>\n",
       "      <td>Male</td>\n",
       "    </tr>\n",
       "    <tr>\n",
       "      <th>13</th>\n",
       "      <td>ADILSON SILVEIRA COELHO</td>\n",
       "      <td>CENTRO FED.DE EDUC.TECNOL.MINAS GERAIS</td>\n",
       "      <td>Male</td>\n",
       "    </tr>\n",
       "    <tr>\n",
       "      <th>14</th>\n",
       "      <td>ADIMILSON DE ASSIS CRUZ</td>\n",
       "      <td>CENTRO FED.DE EDUC.TECNOL.MINAS GERAIS</td>\n",
       "      <td>Male</td>\n",
       "    </tr>\n",
       "  </tbody>\n",
       "</table>\n",
       "</div>"
      ],
      "text/plain": [
       "                                   Name  \\\n",
       "0                 ABELARDO BENTO ARAUJO   \n",
       "1                 ABNER BRAGANCA GOUVEA   \n",
       "2      ACCACIO FERREIRA DOS SANTOS NETO   \n",
       "3                ADALBERTO JOSE DE LIMA   \n",
       "4            ADALBERTO PEREIRA DA SILVA   \n",
       "5   ADALBERTO TEIXEIRA DE ANDRADE ROCHA   \n",
       "6                 ADALTON MARTINS GOMES   \n",
       "7                ADELSON DE PAULA SILVA   \n",
       "8             ADELSON FERNANDES MOREIRA   \n",
       "9               ADERCI DE FREITAS FILHO   \n",
       "10               ADILSON MENDES RICARDO   \n",
       "11               ADILSON RAMOS DA SILVA   \n",
       "12                 ADILSON RANGEL ALVES   \n",
       "13              ADILSON SILVEIRA COELHO   \n",
       "14              ADIMILSON DE ASSIS CRUZ   \n",
       "\n",
       "                                       IES Guessed_Gender  \n",
       "0   CENTRO FED.DE EDUC.TECNOL.MINAS GERAIS           Male  \n",
       "1   CENTRO FED.DE EDUC.TECNOL.MINAS GERAIS           Male  \n",
       "2   CENTRO FED.DE EDUC.TECNOL.MINAS GERAIS           Male  \n",
       "3   CENTRO FED.DE EDUC.TECNOL.MINAS GERAIS           Male  \n",
       "4   CENTRO FED.DE EDUC.TECNOL.MINAS GERAIS           Male  \n",
       "5   CENTRO FED.DE EDUC.TECNOL.MINAS GERAIS           Male  \n",
       "6   CENTRO FED.DE EDUC.TECNOL.MINAS GERAIS           Male  \n",
       "7   CENTRO FED.DE EDUC.TECNOL.MINAS GERAIS           Male  \n",
       "8   CENTRO FED.DE EDUC.TECNOL.MINAS GERAIS           Male  \n",
       "9   CENTRO FED.DE EDUC.TECNOL.MINAS GERAIS           None  \n",
       "10  CENTRO FED.DE EDUC.TECNOL.MINAS GERAIS           Male  \n",
       "11  CENTRO FED.DE EDUC.TECNOL.MINAS GERAIS           Male  \n",
       "12  CENTRO FED.DE EDUC.TECNOL.MINAS GERAIS           Male  \n",
       "13  CENTRO FED.DE EDUC.TECNOL.MINAS GERAIS           Male  \n",
       "14  CENTRO FED.DE EDUC.TECNOL.MINAS GERAIS           Male  "
      ]
     },
     "execution_count": 24,
     "metadata": {},
     "output_type": "execute_result"
    }
   ],
   "source": [
    "ies_employees_df"
   ]
  },
  {
   "cell_type": "markdown",
   "metadata": {},
   "source": [
    "R's [GenderBR](http://fmeireles.com/blog/rstats/genderbr-predizer-sexo) did a very good job in gender guessing, however it failed to predict gender for some names. So, a next plausible approach is to use some online API. We have found that the free [Genderize.io](https://genderize.io) dabase contains thousands of distinct names across several countries and languages. This API is keyless but limited to generous 1000 names/day."
   ]
  },
  {
   "cell_type": "code",
   "execution_count": 25,
   "metadata": {
    "collapsed": true
   },
   "outputs": [],
   "source": [
    "# No API key required for genderize.io\n",
    "def genderize_io(genderless_name):\n",
    "    genderless_name = genderless_name.split()[0]\n",
    "    api_url='https://api.genderize.io/?name={}'.format(genderless_name).replace(\" \", \"\")\n",
    "    gender = requests.get(api_url,timeout=10).json().get('gender')\n",
    "    if(gender):\n",
    "        return gender.capitalize()\n",
    "    else:\n",
    "        return None"
   ]
  },
  {
   "cell_type": "code",
   "execution_count": 26,
   "metadata": {
    "collapsed": true
   },
   "outputs": [],
   "source": [
    "for index,row in ies_employees_df.iterrows():\n",
    "    if row[2] is None:\n",
    "        gen = genderize_io(row[1])\n",
    "        if(gen):\n",
    "            ies_employees_df.Guessed_Gender.loc[index] = gen\n",
    "        \n",
    "        "
   ]
  },
  {
   "cell_type": "code",
   "execution_count": 27,
   "metadata": {},
   "outputs": [
    {
     "data": {
      "text/html": [
       "<div>\n",
       "<style>\n",
       "    .dataframe thead tr:only-child th {\n",
       "        text-align: right;\n",
       "    }\n",
       "\n",
       "    .dataframe thead th {\n",
       "        text-align: left;\n",
       "    }\n",
       "\n",
       "    .dataframe tbody tr th {\n",
       "        vertical-align: top;\n",
       "    }\n",
       "</style>\n",
       "<table border=\"1\" class=\"dataframe\">\n",
       "  <thead>\n",
       "    <tr style=\"text-align: right;\">\n",
       "      <th></th>\n",
       "      <th>Name</th>\n",
       "      <th>IES</th>\n",
       "      <th>Guessed_Gender</th>\n",
       "    </tr>\n",
       "  </thead>\n",
       "  <tbody>\n",
       "    <tr>\n",
       "      <th>0</th>\n",
       "      <td>ABELARDO BENTO ARAUJO</td>\n",
       "      <td>CENTRO FED.DE EDUC.TECNOL.MINAS GERAIS</td>\n",
       "      <td>Male</td>\n",
       "    </tr>\n",
       "    <tr>\n",
       "      <th>1</th>\n",
       "      <td>ABNER BRAGANCA GOUVEA</td>\n",
       "      <td>CENTRO FED.DE EDUC.TECNOL.MINAS GERAIS</td>\n",
       "      <td>Male</td>\n",
       "    </tr>\n",
       "    <tr>\n",
       "      <th>2</th>\n",
       "      <td>ACCACIO FERREIRA DOS SANTOS NETO</td>\n",
       "      <td>CENTRO FED.DE EDUC.TECNOL.MINAS GERAIS</td>\n",
       "      <td>Male</td>\n",
       "    </tr>\n",
       "    <tr>\n",
       "      <th>3</th>\n",
       "      <td>ADALBERTO JOSE DE LIMA</td>\n",
       "      <td>CENTRO FED.DE EDUC.TECNOL.MINAS GERAIS</td>\n",
       "      <td>Male</td>\n",
       "    </tr>\n",
       "    <tr>\n",
       "      <th>4</th>\n",
       "      <td>ADALBERTO PEREIRA DA SILVA</td>\n",
       "      <td>CENTRO FED.DE EDUC.TECNOL.MINAS GERAIS</td>\n",
       "      <td>Male</td>\n",
       "    </tr>\n",
       "    <tr>\n",
       "      <th>5</th>\n",
       "      <td>ADALBERTO TEIXEIRA DE ANDRADE ROCHA</td>\n",
       "      <td>CENTRO FED.DE EDUC.TECNOL.MINAS GERAIS</td>\n",
       "      <td>Male</td>\n",
       "    </tr>\n",
       "    <tr>\n",
       "      <th>6</th>\n",
       "      <td>ADALTON MARTINS GOMES</td>\n",
       "      <td>CENTRO FED.DE EDUC.TECNOL.MINAS GERAIS</td>\n",
       "      <td>Male</td>\n",
       "    </tr>\n",
       "    <tr>\n",
       "      <th>7</th>\n",
       "      <td>ADELSON DE PAULA SILVA</td>\n",
       "      <td>CENTRO FED.DE EDUC.TECNOL.MINAS GERAIS</td>\n",
       "      <td>Male</td>\n",
       "    </tr>\n",
       "    <tr>\n",
       "      <th>8</th>\n",
       "      <td>ADELSON FERNANDES MOREIRA</td>\n",
       "      <td>CENTRO FED.DE EDUC.TECNOL.MINAS GERAIS</td>\n",
       "      <td>Male</td>\n",
       "    </tr>\n",
       "    <tr>\n",
       "      <th>9</th>\n",
       "      <td>ADERCI DE FREITAS FILHO</td>\n",
       "      <td>CENTRO FED.DE EDUC.TECNOL.MINAS GERAIS</td>\n",
       "      <td>Male</td>\n",
       "    </tr>\n",
       "    <tr>\n",
       "      <th>10</th>\n",
       "      <td>ADILSON MENDES RICARDO</td>\n",
       "      <td>CENTRO FED.DE EDUC.TECNOL.MINAS GERAIS</td>\n",
       "      <td>Male</td>\n",
       "    </tr>\n",
       "    <tr>\n",
       "      <th>11</th>\n",
       "      <td>ADILSON RAMOS DA SILVA</td>\n",
       "      <td>CENTRO FED.DE EDUC.TECNOL.MINAS GERAIS</td>\n",
       "      <td>Male</td>\n",
       "    </tr>\n",
       "    <tr>\n",
       "      <th>12</th>\n",
       "      <td>ADILSON RANGEL ALVES</td>\n",
       "      <td>CENTRO FED.DE EDUC.TECNOL.MINAS GERAIS</td>\n",
       "      <td>Male</td>\n",
       "    </tr>\n",
       "    <tr>\n",
       "      <th>13</th>\n",
       "      <td>ADILSON SILVEIRA COELHO</td>\n",
       "      <td>CENTRO FED.DE EDUC.TECNOL.MINAS GERAIS</td>\n",
       "      <td>Male</td>\n",
       "    </tr>\n",
       "    <tr>\n",
       "      <th>14</th>\n",
       "      <td>ADIMILSON DE ASSIS CRUZ</td>\n",
       "      <td>CENTRO FED.DE EDUC.TECNOL.MINAS GERAIS</td>\n",
       "      <td>Male</td>\n",
       "    </tr>\n",
       "  </tbody>\n",
       "</table>\n",
       "</div>"
      ],
      "text/plain": [
       "                                   Name  \\\n",
       "0                 ABELARDO BENTO ARAUJO   \n",
       "1                 ABNER BRAGANCA GOUVEA   \n",
       "2      ACCACIO FERREIRA DOS SANTOS NETO   \n",
       "3                ADALBERTO JOSE DE LIMA   \n",
       "4            ADALBERTO PEREIRA DA SILVA   \n",
       "5   ADALBERTO TEIXEIRA DE ANDRADE ROCHA   \n",
       "6                 ADALTON MARTINS GOMES   \n",
       "7                ADELSON DE PAULA SILVA   \n",
       "8             ADELSON FERNANDES MOREIRA   \n",
       "9               ADERCI DE FREITAS FILHO   \n",
       "10               ADILSON MENDES RICARDO   \n",
       "11               ADILSON RAMOS DA SILVA   \n",
       "12                 ADILSON RANGEL ALVES   \n",
       "13              ADILSON SILVEIRA COELHO   \n",
       "14              ADIMILSON DE ASSIS CRUZ   \n",
       "\n",
       "                                       IES Guessed_Gender  \n",
       "0   CENTRO FED.DE EDUC.TECNOL.MINAS GERAIS           Male  \n",
       "1   CENTRO FED.DE EDUC.TECNOL.MINAS GERAIS           Male  \n",
       "2   CENTRO FED.DE EDUC.TECNOL.MINAS GERAIS           Male  \n",
       "3   CENTRO FED.DE EDUC.TECNOL.MINAS GERAIS           Male  \n",
       "4   CENTRO FED.DE EDUC.TECNOL.MINAS GERAIS           Male  \n",
       "5   CENTRO FED.DE EDUC.TECNOL.MINAS GERAIS           Male  \n",
       "6   CENTRO FED.DE EDUC.TECNOL.MINAS GERAIS           Male  \n",
       "7   CENTRO FED.DE EDUC.TECNOL.MINAS GERAIS           Male  \n",
       "8   CENTRO FED.DE EDUC.TECNOL.MINAS GERAIS           Male  \n",
       "9   CENTRO FED.DE EDUC.TECNOL.MINAS GERAIS           Male  \n",
       "10  CENTRO FED.DE EDUC.TECNOL.MINAS GERAIS           Male  \n",
       "11  CENTRO FED.DE EDUC.TECNOL.MINAS GERAIS           Male  \n",
       "12  CENTRO FED.DE EDUC.TECNOL.MINAS GERAIS           Male  \n",
       "13  CENTRO FED.DE EDUC.TECNOL.MINAS GERAIS           Male  \n",
       "14  CENTRO FED.DE EDUC.TECNOL.MINAS GERAIS           Male  "
      ]
     },
     "execution_count": 27,
     "metadata": {},
     "output_type": "execute_result"
    }
   ],
   "source": [
    "ies_employees_df"
   ]
  },
  {
   "cell_type": "markdown",
   "metadata": {},
   "source": [
    "### 3 Gender Analysis in IES"
   ]
  },
  {
   "cell_type": "code",
   "execution_count": 39,
   "metadata": {},
   "outputs": [
    {
     "data": {
      "text/plain": [
       "Male    15\n",
       "Name: Guessed_Gender, dtype: int64"
      ]
     },
     "execution_count": 39,
     "metadata": {},
     "output_type": "execute_result"
    }
   ],
   "source": [
    "ies_employees_df.Guessed_Gender.value_counts()"
   ]
  },
  {
   "cell_type": "code",
   "execution_count": 38,
   "metadata": {},
   "outputs": [
    {
     "data": {
      "text/plain": [
       "<matplotlib.axes._subplots.AxesSubplot at 0x7fa4241172b0>"
      ]
     },
     "execution_count": 38,
     "metadata": {},
     "output_type": "execute_result"
    },
    {
     "data": {
      "image/png": "[encoded data removed]",
      "text/plain": [
       "<matplotlib.figure.Figure at 0x7fa4267f3e80>"
      ]
     },
     "metadata": {},
     "output_type": "display_data"
    }
   ],
   "source": [
    "%matplotlib inline\n",
    "ies_employees_df.Guessed_Gender.value_counts().plot(kind='pie')"
   ]
  },
  {
   "cell_type": "code",
   "execution_count": null,
   "metadata": {
    "collapsed": true
   },
   "outputs": [],
   "source": []
  }
 ],
 "metadata": {
  "kernelspec": {
   "display_name": "Python 3",
   "language": "python",
   "name": "python3"
  },
  "language_info": {
   "codemirror_mode": {
    "name": "ipython",
    "version": 3
   },
   "file_extension": ".py",
   "mimetype": "text/x-python",
   "name": "python",
   "nbconvert_exporter": "python",
   "pygments_lexer": "ipython3",
   "version": "3.6.1"
  }
 },
 "nbformat": 4,
 "nbformat_minor": 2
}
